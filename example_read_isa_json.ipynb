{
    "cells": [
        {
            "cell_type": "markdown",
            "metadata": {},
            "source": [
                "# Example Script for parsing an ISA JSON"
            ]
        },
        {
            "cell_type": "markdown",
            "metadata": {},
            "source": [
                "## Import statements"
            ]
        },
        {
            "cell_type": "code",
            "execution_count": 1,
            "metadata": {},
            "outputs": [],
            "source": [
                "import json\n",
                "import os\n",
                "from ena_upload.json_parsing.ena_submission import EnaSubmission\n",
                "from dotenv import dotenv_values\n"
            ]
        },
        {
            "cell_type": "markdown",
            "metadata": {},
            "source": [
                "## Reading a JSON file"
            ]
        },
        {
            "cell_type": "code",
            "execution_count": 2,
            "metadata": {},
            "outputs": [],
            "source": [
                "\n",
                "# Read json file\n",
                "isa_json_file = open(\n",
                "    \"tests/test_data/simple_test_case_v2.json\"\n",
                ")\n",
                "isa_json = json.load(isa_json_file)"
            ]
        },
        {
            "cell_type": "markdown",
            "metadata": {},
            "source": [
                "## Setting some extra parameters"
            ]
        },
        {
            "cell_type": "code",
            "execution_count": 3,
            "metadata": {},
            "outputs": [],
            "source": [
                "\n",
                "\n",
                "# Change this to 'True' if you want to export the resulting DataFrames to an xlsx.\n",
                "export_to_excel = False\n",
                "outputfolder = \"./output_folder/\"\n",
                "\n",
                "required_assays = [\n",
                "    {\"assay_stream\": \"Ena stream 1\"},\n",
                "    ]"
            ]
        },
        {
            "cell_type": "markdown",
            "metadata": {},
            "source": [
                "## Parsing"
            ]
        },
        {
            "cell_type": "code",
            "execution_count": 4,
            "metadata": {},
            "outputs": [],
            "source": [
                "\n",
                "\n",
                "submission = EnaSubmission.from_isa_json(isa_json, required_assays)\n",
                "submission_dfs = submission.generate_dataframes()"
            ]
        },
        {
            "cell_type": "markdown",
            "metadata": {},
            "source": [
                "## Output"
            ]
        },
        {
            "cell_type": "code",
            "execution_count": 5,
            "metadata": {},
            "outputs": [
                {
                    "name": "stdout",
                    "output_type": "stream",
                    "text": [
                        "Dataframe study:\n"
                    ]
                },
                {
                    "data": {
                        "text/html": [
                            "<div>\n",
                            "<style scoped>\n",
                            "    .dataframe tbody tr th:only-of-type {\n",
                            "        vertical-align: middle;\n",
                            "    }\n",
                            "\n",
                            "    .dataframe tbody tr th {\n",
                            "        vertical-align: top;\n",
                            "    }\n",
                            "\n",
                            "    .dataframe thead th {\n",
                            "        text-align: right;\n",
                            "    }\n",
                            "</style>\n",
                            "<table border=\"1\" class=\"dataframe\">\n",
                            "  <thead>\n",
                            "    <tr style=\"text-align: right;\">\n",
                            "      <th></th>\n",
                            "      <th>alias</th>\n",
                            "      <th>title</th>\n",
                            "      <th>study_type</th>\n",
                            "      <th>study_abstract</th>\n",
                            "      <th>new_study_type</th>\n",
                            "      <th>pubmed_id</th>\n",
                            "    </tr>\n",
                            "  </thead>\n",
                            "  <tbody>\n",
                            "    <tr>\n",
                            "      <th>0</th>\n",
                            "      <td>study_alias_48_49</td>\n",
                            "      <td>study_title_1</td>\n",
                            "      <td>Transcriptome Analysis</td>\n",
                            "      <td>study_abstract_1</td>\n",
                            "      <td>None</td>\n",
                            "      <td></td>\n",
                            "    </tr>\n",
                            "  </tbody>\n",
                            "</table>\n",
                            "</div>"
                        ],
                        "text/plain": [
                            "               alias          title              study_type    study_abstract  \\\n",
                            "0  study_alias_48_49  study_title_1  Transcriptome Analysis  study_abstract_1   \n",
                            "\n",
                            "  new_study_type pubmed_id  \n",
                            "0           None            "
                        ]
                    },
                    "metadata": {},
                    "output_type": "display_data"
                },
                {
                    "name": "stdout",
                    "output_type": "stream",
                    "text": [
                        "Dataframe sample:\n"
                    ]
                },
                {
                    "data": {
                        "text/html": [
                            "<div>\n",
                            "<style scoped>\n",
                            "    .dataframe tbody tr th:only-of-type {\n",
                            "        vertical-align: middle;\n",
                            "    }\n",
                            "\n",
                            "    .dataframe tbody tr th {\n",
                            "        vertical-align: top;\n",
                            "    }\n",
                            "\n",
                            "    .dataframe thead th {\n",
                            "        text-align: right;\n",
                            "    }\n",
                            "</style>\n",
                            "<table border=\"1\" class=\"dataframe\">\n",
                            "  <thead>\n",
                            "    <tr style=\"text-align: right;\">\n",
                            "      <th></th>\n",
                            "      <th>alias</th>\n",
                            "      <th>title</th>\n",
                            "      <th>sample_description</th>\n",
                            "      <th>collection date</th>\n",
                            "      <th>accession</th>\n",
                            "      <th>submission date</th>\n",
                            "      <th>status</th>\n",
                            "      <th>geographic location (country and/or sea)</th>\n",
                            "      <th>taxon_id</th>\n",
                            "    </tr>\n",
                            "  </thead>\n",
                            "  <tbody>\n",
                            "    <tr>\n",
                            "      <th>0</th>\n",
                            "      <td>sample_alias_224</td>\n",
                            "      <td>sample_title_1</td>\n",
                            "      <td>sample_description_1</td>\n",
                            "      <td>2020-10-11</td>\n",
                            "      <td></td>\n",
                            "      <td></td>\n",
                            "      <td>add</td>\n",
                            "      <td>Argentina</td>\n",
                            "      <td>9606</td>\n",
                            "    </tr>\n",
                            "    <tr>\n",
                            "      <th>1</th>\n",
                            "      <td>sample_alias_225</td>\n",
                            "      <td>sample_title_2</td>\n",
                            "      <td>sample_description_2</td>\n",
                            "      <td>2008-01-24</td>\n",
                            "      <td></td>\n",
                            "      <td></td>\n",
                            "      <td>add</td>\n",
                            "      <td>Belgium</td>\n",
                            "      <td>646099</td>\n",
                            "    </tr>\n",
                            "  </tbody>\n",
                            "</table>\n",
                            "</div>"
                        ],
                        "text/plain": [
                            "              alias           title    sample_description collection date  \\\n",
                            "0  sample_alias_224  sample_title_1  sample_description_1      2020-10-11   \n",
                            "1  sample_alias_225  sample_title_2  sample_description_2      2008-01-24   \n",
                            "\n",
                            "  accession submission date status geographic location (country and/or sea)  \\\n",
                            "0                              add                                Argentina   \n",
                            "1                              add                                  Belgium   \n",
                            "\n",
                            "  taxon_id  \n",
                            "0     9606  \n",
                            "1   646099  "
                        ]
                    },
                    "metadata": {},
                    "output_type": "display_data"
                },
                {
                    "name": "stdout",
                    "output_type": "stream",
                    "text": [
                        "Dataframe experiment:\n"
                    ]
                },
                {
                    "data": {
                        "text/html": [
                            "<div>\n",
                            "<style scoped>\n",
                            "    .dataframe tbody tr th:only-of-type {\n",
                            "        vertical-align: middle;\n",
                            "    }\n",
                            "\n",
                            "    .dataframe tbody tr th {\n",
                            "        vertical-align: top;\n",
                            "    }\n",
                            "\n",
                            "    .dataframe thead th {\n",
                            "        text-align: right;\n",
                            "    }\n",
                            "</style>\n",
                            "<table border=\"1\" class=\"dataframe\">\n",
                            "  <thead>\n",
                            "    <tr style=\"text-align: right;\">\n",
                            "      <th></th>\n",
                            "      <th>alias</th>\n",
                            "      <th>study_alias</th>\n",
                            "      <th>sample_alias</th>\n",
                            "      <th>library_name</th>\n",
                            "      <th>title</th>\n",
                            "      <th>accession</th>\n",
                            "      <th>submission date</th>\n",
                            "      <th>status</th>\n",
                            "      <th>design_description</th>\n",
                            "      <th>library_source</th>\n",
                            "      <th>library_strategy</th>\n",
                            "      <th>library_selection</th>\n",
                            "      <th>library_layout</th>\n",
                            "      <th>insert_size</th>\n",
                            "      <th>platform</th>\n",
                            "      <th>instrument_model</th>\n",
                            "    </tr>\n",
                            "  </thead>\n",
                            "  <tbody>\n",
                            "    <tr>\n",
                            "      <th>0</th>\n",
                            "      <td>experiment_alias_227</td>\n",
                            "      <td>study_alias_48_49</td>\n",
                            "      <td>sample_alias_224</td>\n",
                            "      <td>library_name_1</td>\n",
                            "      <td>experiment_title_1</td>\n",
                            "      <td></td>\n",
                            "      <td></td>\n",
                            "      <td>add</td>\n",
                            "      <td>design_description_1</td>\n",
                            "      <td>GENOMIC</td>\n",
                            "      <td>WGA</td>\n",
                            "      <td>RANDOM</td>\n",
                            "      <td>PAIRED</td>\n",
                            "      <td>250</td>\n",
                            "      <td>LS454</td>\n",
                            "      <td>454 GS 20</td>\n",
                            "    </tr>\n",
                            "    <tr>\n",
                            "      <th>1</th>\n",
                            "      <td>experiment_alias_228</td>\n",
                            "      <td>study_alias_48_49</td>\n",
                            "      <td>sample_alias_225</td>\n",
                            "      <td>library_name_2</td>\n",
                            "      <td>experiment_title_2</td>\n",
                            "      <td></td>\n",
                            "      <td></td>\n",
                            "      <td>add</td>\n",
                            "      <td>design_description_2</td>\n",
                            "      <td>TRANSCRIPTOMIC</td>\n",
                            "      <td>RNA-Seq</td>\n",
                            "      <td>repeat fractionation</td>\n",
                            "      <td>SINGLE</td>\n",
                            "      <td>None</td>\n",
                            "      <td>Illumina</td>\n",
                            "      <td>Illumina Genome Analyzer</td>\n",
                            "    </tr>\n",
                            "    <tr>\n",
                            "      <th>2</th>\n",
                            "      <td>experiment_alias_229</td>\n",
                            "      <td>study_alias_48_49</td>\n",
                            "      <td>sample_alias_225</td>\n",
                            "      <td>library_name_2</td>\n",
                            "      <td>experiment_title_3</td>\n",
                            "      <td></td>\n",
                            "      <td></td>\n",
                            "      <td>add</td>\n",
                            "      <td>design_description_3</td>\n",
                            "      <td>TRANSCRIPTOMIC</td>\n",
                            "      <td>RNA-Seq</td>\n",
                            "      <td>repeat fractionation</td>\n",
                            "      <td>SINGLE</td>\n",
                            "      <td>None</td>\n",
                            "      <td>Illumina</td>\n",
                            "      <td>Illumina Genome Analyzer</td>\n",
                            "    </tr>\n",
                            "  </tbody>\n",
                            "</table>\n",
                            "</div>"
                        ],
                        "text/plain": [
                            "                  alias        study_alias      sample_alias    library_name  \\\n",
                            "0  experiment_alias_227  study_alias_48_49  sample_alias_224  library_name_1   \n",
                            "1  experiment_alias_228  study_alias_48_49  sample_alias_225  library_name_2   \n",
                            "2  experiment_alias_229  study_alias_48_49  sample_alias_225  library_name_2   \n",
                            "\n",
                            "                title accession submission date status    design_description  \\\n",
                            "0  experiment_title_1                              add  design_description_1   \n",
                            "1  experiment_title_2                              add  design_description_2   \n",
                            "2  experiment_title_3                              add  design_description_3   \n",
                            "\n",
                            "   library_source library_strategy     library_selection library_layout  \\\n",
                            "0         GENOMIC              WGA                RANDOM         PAIRED   \n",
                            "1  TRANSCRIPTOMIC          RNA-Seq  repeat fractionation         SINGLE   \n",
                            "2  TRANSCRIPTOMIC          RNA-Seq  repeat fractionation         SINGLE   \n",
                            "\n",
                            "  insert_size  platform          instrument_model  \n",
                            "0         250     LS454                 454 GS 20  \n",
                            "1        None  Illumina  Illumina Genome Analyzer  \n",
                            "2        None  Illumina  Illumina Genome Analyzer  "
                        ]
                    },
                    "metadata": {},
                    "output_type": "display_data"
                },
                {
                    "name": "stdout",
                    "output_type": "stream",
                    "text": [
                        "Dataframe run:\n"
                    ]
                },
                {
                    "data": {
                        "text/html": [
                            "<div>\n",
                            "<style scoped>\n",
                            "    .dataframe tbody tr th:only-of-type {\n",
                            "        vertical-align: middle;\n",
                            "    }\n",
                            "\n",
                            "    .dataframe tbody tr th {\n",
                            "        vertical-align: top;\n",
                            "    }\n",
                            "\n",
                            "    .dataframe thead th {\n",
                            "        text-align: right;\n",
                            "    }\n",
                            "</style>\n",
                            "<table border=\"1\" class=\"dataframe\">\n",
                            "  <thead>\n",
                            "    <tr style=\"text-align: right;\">\n",
                            "      <th></th>\n",
                            "      <th>alias</th>\n",
                            "      <th>experiment_alias</th>\n",
                            "      <th>file_name</th>\n",
                            "      <th>file_type</th>\n",
                            "      <th>file checksum</th>\n",
                            "      <th>accession</th>\n",
                            "      <th>submission date</th>\n",
                            "      <th>status</th>\n",
                            "    </tr>\n",
                            "  </thead>\n",
                            "  <tbody>\n",
                            "    <tr>\n",
                            "      <th>0</th>\n",
                            "      <td>run_alias_233_234</td>\n",
                            "      <td>experiment_alias_227</td>\n",
                            "      <td>ENA_TEST2.R1.fastq.gz</td>\n",
                            "      <td>fastq</td>\n",
                            "      <td></td>\n",
                            "      <td></td>\n",
                            "      <td></td>\n",
                            "      <td>add</td>\n",
                            "    </tr>\n",
                            "    <tr>\n",
                            "      <th>1</th>\n",
                            "      <td>run_alias_233_234</td>\n",
                            "      <td>experiment_alias_227</td>\n",
                            "      <td>ENA_TEST2.R2.fastq.gz</td>\n",
                            "      <td>fastq</td>\n",
                            "      <td></td>\n",
                            "      <td></td>\n",
                            "      <td></td>\n",
                            "      <td>add</td>\n",
                            "    </tr>\n",
                            "    <tr>\n",
                            "      <th>2</th>\n",
                            "      <td>run_alias_235</td>\n",
                            "      <td>experiment_alias_229</td>\n",
                            "      <td>ENA_TEST1.R1.fastq.gz</td>\n",
                            "      <td>fastq</td>\n",
                            "      <td></td>\n",
                            "      <td></td>\n",
                            "      <td></td>\n",
                            "      <td>add</td>\n",
                            "    </tr>\n",
                            "  </tbody>\n",
                            "</table>\n",
                            "</div>"
                        ],
                        "text/plain": [
                            "               alias      experiment_alias              file_name file_type  \\\n",
                            "0  run_alias_233_234  experiment_alias_227  ENA_TEST2.R1.fastq.gz     fastq   \n",
                            "1  run_alias_233_234  experiment_alias_227  ENA_TEST2.R2.fastq.gz     fastq   \n",
                            "2      run_alias_235  experiment_alias_229  ENA_TEST1.R1.fastq.gz     fastq   \n",
                            "\n",
                            "  file checksum accession submission date status  \n",
                            "0                                            add  \n",
                            "1                                            add  \n",
                            "2                                            add  "
                        ]
                    },
                    "metadata": {},
                    "output_type": "display_data"
                },
                {
                    "name": "stdout",
                    "output_type": "stream",
                    "text": [
                        "Done!\n"
                    ]
                }
            ],
            "source": [
                "\n",
                "if (not os.path.exists(outputfolder)) and export_to_excel:\n",
                "    os.makedirs(outputfolder)\n",
                "\n",
                "for k, df in submission_dfs.items():\n",
                "    print(f\"Dataframe {k}:\")\n",
                "    display(df)\n",
                "    if export_to_excel:\n",
                "        df.to_excel(f\"{outputfolder}{k}.xlsx\")\n",
                "\n",
                "print(\"Done!\")\n"
            ]
        },
        {
            "cell_type": "markdown",
            "metadata": {},
            "source": [
                "# Automated pipeline for DataHub"
            ]
        },
        {
            "cell_type": "code",
            "execution_count": null,
            "metadata": {},
            "outputs": [],
            "source": [
                "config = dotenv_values(\".env\")\n",
                "datahub_token = config[\"DATAHUB_API_TOKEN\"]"
            ]
        },
        {
            "cell_type": "code",
            "execution_count": null,
            "metadata": {},
            "outputs": [],
            "source": [
                "import requests\n",
                "\n",
                "url = \"https://datahub-dev.elixir-belgium.org/single_pages/16/export_isa\"\n",
                "url = \"http://localhost:3000/single_pages/2/export_isa\"\n",
                "data = {\"key\": \"value\"}\n",
                "headers = {\"Content-Type\": \"application/json\"}\n",
                "\n",
                "response = requests.post(url, json=data, headers=headers)\n"
            ]
        }
    ],
    "metadata": {
        "kernelspec": {
            "display_name": "Python 3",
            "language": "python",
            "name": "python3"
        },
        "language_info": {
            "codemirror_mode": {
                "name": "ipython",
                "version": 3
            },
            "file_extension": ".py",
            "mimetype": "text/x-python",
            "name": "python",
            "nbconvert_exporter": "python",
            "pygments_lexer": "ipython3",
            "version": "3.10.12"
        }
    },
    "nbformat": 4,
    "nbformat_minor": 2
}
